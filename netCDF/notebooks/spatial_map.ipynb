{
 "cells": [
  {
   "cell_type": "markdown",
   "metadata": {},
   "source": [
    "# Trainer:\n",
    "Md. Jalal Uddin, Founder and director of Research Society email: dmjalal90@gmail.com, dmjalal90@nuist.edu.cn"
   ]
  },
  {
   "cell_type": "markdown",
   "metadata": {},
   "source": [
    "# Install netcdf4\n",
    "\n",
    "step 1: run Anaconda as Administrator\n",
    "\n",
    "step 2: you need to use the following command if you are a anaconda user\n",
    "\n",
    "conda install -c anaconda netcdf4 \n",
    "\n",
    "Or you need to use the following command if you are a python user\n",
    "\n",
    "pip install netCDF4"
   ]
  },
  {
   "cell_type": "markdown",
   "metadata": {},
   "source": [
    "# Install Base map:\n",
    "\n",
    "step 1: download whl file from https://www.lfd.uci.edu/~gohlke/pythonlibs/ link based on your python version\n",
    "\n",
    "step 2: create a folder on \"C\" directory as \"Basemap\"\n",
    "\n",
    "step 3: run Anaconda as Administrator\n",
    "\n",
    "step 4: you need to install whl file by using the following command (please change the basemap file name if you are using different)\n",
    "\n",
    "pip install C:\\Basemap\\basemap-1.2.2-cp37-cp37m-win_amd64.whl "
   ]
  },
  {
   "cell_type": "code",
   "execution_count": 1,
   "metadata": {},
   "outputs": [],
   "source": [
    "from netCDF4 import Dataset\n",
    "import numpy as np\n",
    "import matplotlib.pyplot as plt\n",
    "from mpl_toolkits.basemap import Basemap   # https://matplotlib.org/basemap/users/examples.html"
   ]
  },
  {
   "cell_type": "markdown",
   "metadata": {},
   "source": [
    "# Know your data"
   ]
  },
  {
   "cell_type": "code",
   "execution_count": 3,
   "metadata": {},
   "outputs": [
    {
     "name": "stdout",
     "output_type": "stream",
     "text": [
      "dict_keys(['gwgt', 'lat', 'lon', 'time', 'prc'])\n",
      "<class 'netCDF4._netCDF4.Variable'>\n",
      "float32 gwgt(lat)\n",
      "    long_name: gaussian weights\n",
      "    short_name: gwgts\n",
      "    units: dimensionless\n",
      "unlimited dimensions: \n",
      "current shape = (64,)\n",
      "filling on, default _FillValue of 9.969209968386869e+36 used\n",
      "<class 'netCDF4._netCDF4.Variable'>\n",
      "float32 lat(lat)\n",
      "    short_name: lat\n",
      "    long_name: latitude\n",
      "    units: degrees_north\n",
      "unlimited dimensions: \n",
      "current shape = (64,)\n",
      "filling on, default _FillValue of 9.969209968386869e+36 used\n",
      "<class 'netCDF4._netCDF4.Variable'>\n",
      "float32 lon(lon)\n",
      "    short_name: lon\n",
      "    long_name: longitude\n",
      "    units: degrees_east\n",
      "unlimited dimensions: \n",
      "current shape = (128,)\n",
      "filling on, default _FillValue of 9.969209968386869e+36 used\n",
      "<class 'netCDF4._netCDF4.Variable'>\n",
      "int32 time(time)\n",
      "    long_name: Year-Month\n",
      "    short_name: YRMO\n",
      "    units: yyyymm\n",
      "    _FillValue: -999\n",
      "unlimited dimensions: \n",
      "current shape = (216,)\n",
      "filling on\n",
      "<class 'netCDF4._netCDF4.Variable'>\n",
      "float32 prc(time, lat, lon)\n",
      "    short_name: PRC\n",
      "    long_name: Precipitation\n",
      "    units: mm/day\n",
      "    _FillValue: -999.0\n",
      "unlimited dimensions: \n",
      "current shape = (216, 64, 128)\n",
      "filling on\n"
     ]
    }
   ],
   "source": [
    "\n",
    "data = Dataset(r'../data/precipitation.nc')\n",
    "\n",
    "print(data.variables.keys())\n",
    "\n",
    "for var in data.variables.values():\n",
    "    print(var)"
   ]
  },
  {
   "cell_type": "markdown",
   "metadata": {},
   "source": [
    "# Know your variable"
   ]
  },
  {
   "cell_type": "code",
   "execution_count": 4,
   "metadata": {},
   "outputs": [
    {
     "data": {
      "text/plain": [
       "<class 'netCDF4._netCDF4.Variable'>\n",
       "float32 prc(time, lat, lon)\n",
       "    short_name: PRC\n",
       "    long_name: Precipitation\n",
       "    units: mm/day\n",
       "    _FillValue: -999.0\n",
       "unlimited dimensions: \n",
       "current shape = (216, 64, 128)\n",
       "filling on"
      ]
     },
     "execution_count": 4,
     "metadata": {},
     "output_type": "execute_result"
    }
   ],
   "source": [
    "data.variables['prc']"
   ]
  },
  {
   "cell_type": "code",
   "execution_count": 5,
   "metadata": {},
   "outputs": [
    {
     "data": {
      "text/plain": [
       "masked_array(data=[-87.8638   , -85.09653  , -82.31291  , -79.525604 ,\n",
       "                   -76.7369   , -73.94752  , -71.15775  , -68.36776  ,\n",
       "                   -65.57761  , -62.787354 , -59.99702  , -57.20663  ,\n",
       "                   -54.4162   , -51.625732 , -48.83524  , -46.044727 ,\n",
       "                   -43.254196 , -40.46365  , -37.673088 , -34.882523 ,\n",
       "                   -32.091946 , -29.30136  , -26.510769 , -23.720175 ,\n",
       "                   -20.929575 , -18.138971 , -15.348365 , -12.557756 ,\n",
       "                    -9.767145 ,  -6.9765334,  -4.1859207,  -1.395307 ,\n",
       "                     1.395307 ,   4.1859207,   6.9765334,   9.767145 ,\n",
       "                    12.557756 ,  15.348365 ,  18.138971 ,  20.929575 ,\n",
       "                    23.720175 ,  26.510769 ,  29.30136  ,  32.091946 ,\n",
       "                    34.882523 ,  37.673088 ,  40.46365  ,  43.254196 ,\n",
       "                    46.044727 ,  48.83524  ,  51.625732 ,  54.4162   ,\n",
       "                    57.20663  ,  59.99702  ,  62.787354 ,  65.57761  ,\n",
       "                    68.36776  ,  71.15775  ,  73.94752  ,  76.7369   ,\n",
       "                    79.525604 ,  82.31291  ,  85.09653  ,  87.8638   ],\n",
       "             mask=False,\n",
       "       fill_value=1e+20,\n",
       "            dtype=float32)"
      ]
     },
     "execution_count": 5,
     "metadata": {},
     "output_type": "execute_result"
    }
   ],
   "source": [
    "# We need to know the min lat for mapping\n",
    "data.variables['lat'][:]"
   ]
  },
  {
   "cell_type": "code",
   "execution_count": 6,
   "metadata": {},
   "outputs": [
    {
     "data": {
      "text/plain": [
       "masked_array(data=[  0.    ,   2.8125,   5.625 ,   8.4375,  11.25  ,\n",
       "                    14.0625,  16.875 ,  19.6875,  22.5   ,  25.3125,\n",
       "                    28.125 ,  30.9375,  33.75  ,  36.5625,  39.375 ,\n",
       "                    42.1875,  45.    ,  47.8125,  50.625 ,  53.4375,\n",
       "                    56.25  ,  59.0625,  61.875 ,  64.6875,  67.5   ,\n",
       "                    70.3125,  73.125 ,  75.9375,  78.75  ,  81.5625,\n",
       "                    84.375 ,  87.1875,  90.    ,  92.8125,  95.625 ,\n",
       "                    98.4375, 101.25  , 104.0625, 106.875 , 109.6875,\n",
       "                   112.5   , 115.3125, 118.125 , 120.9375, 123.75  ,\n",
       "                   126.5625, 129.375 , 132.1875, 135.    , 137.8125,\n",
       "                   140.625 , 143.4375, 146.25  , 149.0625, 151.875 ,\n",
       "                   154.6875, 157.5   , 160.3125, 163.125 , 165.9375,\n",
       "                   168.75  , 171.5625, 174.375 , 177.1875, 180.    ,\n",
       "                   182.8125, 185.625 , 188.4375, 191.25  , 194.0625,\n",
       "                   196.875 , 199.6875, 202.5   , 205.3125, 208.125 ,\n",
       "                   210.9375, 213.75  , 216.5625, 219.375 , 222.1875,\n",
       "                   225.    , 227.8125, 230.625 , 233.4375, 236.25  ,\n",
       "                   239.0625, 241.875 , 244.6875, 247.5   , 250.3125,\n",
       "                   253.125 , 255.9375, 258.75  , 261.5625, 264.375 ,\n",
       "                   267.1875, 270.    , 272.8125, 275.625 , 278.4375,\n",
       "                   281.25  , 284.0625, 286.875 , 289.6875, 292.5   ,\n",
       "                   295.3125, 298.125 , 300.9375, 303.75  , 306.5625,\n",
       "                   309.375 , 312.1875, 315.    , 317.8125, 320.625 ,\n",
       "                   323.4375, 326.25  , 329.0625, 331.875 , 334.6875,\n",
       "                   337.5   , 340.3125, 343.125 , 345.9375, 348.75  ,\n",
       "                   351.5625, 354.375 , 357.1875],\n",
       "             mask=False,\n",
       "       fill_value=1e+20,\n",
       "            dtype=float32)"
      ]
     },
     "execution_count": 6,
     "metadata": {},
     "output_type": "execute_result"
    }
   ],
   "source": [
    "# We need to know the min lon for mapping\n",
    "data.variables['lon'][:]"
   ]
  },
  {
   "cell_type": "code",
   "execution_count": 7,
   "metadata": {},
   "outputs": [
    {
     "data": {
      "image/png": "[encoded data removed]",
      "text/plain": [
       "<Figure size 432x288 with 2 Axes>"
      ]
     },
     "metadata": {
      "needs_background": "light"
     },
     "output_type": "display_data"
    }
   ],
   "source": [
    "\n",
    "lat  = data.variables['lat'][:]\n",
    "lon  = data.variables['lon'][:]\n",
    "time = data.variables['time'][:]\n",
    "prc  = data.variables['prc'][:]\n",
    "\n",
    "mean_rainfall = np.mean(prc, axis=0)\n",
    "#print(mean_rainfall)\n",
    "\n",
    "# https://matplotlib.org/basemap/api/basemap_api.html\n",
    "\n",
    "m = Basemap(projection  = 'merc',   # setup mercator map projection\n",
    "             llcrnrlon  = 70,       # min lon\n",
    "             llcrnrlat  = 5,        # min lat\n",
    "             urcrnrlon  = 100,      # max lon\n",
    "             urcrnrlat  = 30,       # max lat\n",
    "             resolution = 'i')      # i = intermediate\n",
    "\n",
    "lon, lat = np.meshgrid(lon,lat)\n",
    "x,y      = m(lon,lat)\n",
    "\n",
    "\n",
    "# list of colormaps: https://matplotlib.org/3.1.0/gallery/color/colormap_reference.html\n",
    "\n",
    "colormap = m.contourf(x, y, mean_rainfall, cmap = 'YlOrRd') \n",
    "\n",
    "m.drawcoastlines()\n",
    "m.drawcountries()\n",
    "m.drawmapboundary(fill_color='white')\n",
    "\n",
    "\n",
    "# labels = [left,right,top,bottom]\n",
    "# labels = [True,False,False,True]\n",
    "\n",
    "m.drawparallels(np.arange(5, 30, 5),  labels = [1,0,0,0],fontsize=10)      # Draw lines of constant latitude\n",
    "m.drawmeridians(np.arange(70, 100, 5),labels = [0,0,0,1],fontsize=10)      # Draw lines of constant longitude\n",
    "\n",
    "\n",
    "cbar = m.colorbar(colormap, location = 'right', pad = '5%')\n",
    "\n",
    "plt.savefig('precipitation.png',dpi = 300)\n",
    "plt.show()\n"
   ]
  },
  {
   "cell_type": "markdown",
   "metadata": {},
   "source": [
    "# Install geopandas\n",
    "\n",
    "\n",
    "step 1: run Anaconda as Administrator\n",
    "\n",
    "step 2: you need to use the following command if you are a anaconda user\n",
    "\n",
    "conda install geopandas\n",
    "\n",
    "Or you need to use the following command if you are a python user\n",
    "\n",
    "pip install geopandas\n",
    "\n",
    "pip install descartes"
   ]
  },
  {
   "cell_type": "code",
   "execution_count": 8,
   "metadata": {},
   "outputs": [],
   "source": [
    "import pandas as pd\n",
    "import geopandas\n",
    "import matplotlib.pyplot as plt\n",
    "\n",
    "%matplotlib inline"
   ]
  },
  {
   "cell_type": "code",
   "execution_count": 9,
   "metadata": {},
   "outputs": [],
   "source": [
    "df = pd.DataFrame(\n",
    "    {'City': ['Buenos Aires', 'Brasilia', 'Santiago', 'Bogota', 'Caracas'],\n",
    "     'Country': ['Argentina', 'Brazil', 'Chile', 'Colombia', 'Venezuela'],\n",
    "     'Latitude': [-34.58, -15.78, -33.45, 4.60, 10.48],\n",
    "     'Longitude': [-58.66, -47.91, -70.66, -74.08, -66.86]})"
   ]
  },
  {
   "cell_type": "code",
   "execution_count": 10,
   "metadata": {},
   "outputs": [],
   "source": [
    "gdf = geopandas.GeoDataFrame(\n",
    "    df, geometry=geopandas.points_from_xy(df.Longitude, df.Latitude))"
   ]
  },
  {
   "cell_type": "code",
   "execution_count": 11,
   "metadata": {},
   "outputs": [
    {
     "name": "stdout",
     "output_type": "stream",
     "text": [
      "           City    Country  Latitude  Longitude                     geometry\n",
      "0  Buenos Aires  Argentina    -34.58     -58.66  POINT (-58.66000 -34.58000)\n",
      "1      Brasilia     Brazil    -15.78     -47.91  POINT (-47.91000 -15.78000)\n",
      "2      Santiago      Chile    -33.45     -70.66  POINT (-70.66000 -33.45000)\n",
      "3        Bogota   Colombia      4.60     -74.08    POINT (-74.08000 4.60000)\n",
      "4       Caracas  Venezuela     10.48     -66.86   POINT (-66.86000 10.48000)\n"
     ]
    }
   ],
   "source": [
    "print(gdf.head())"
   ]
  },
  {
   "cell_type": "code",
   "execution_count": 12,
   "metadata": {},
   "outputs": [
    {
     "data": {
      "image/png": "[encoded data removed]",
      "text/plain": [
       "<Figure size 432x288 with 1 Axes>"
      ]
     },
     "metadata": {
      "needs_background": "light"
     },
     "output_type": "display_data"
    }
   ],
   "source": [
    "world = geopandas.read_file(geopandas.datasets.get_path('naturalearth_lowres'))\n",
    "\n",
    "# We restrict to South America.\n",
    "ax = world[world.continent == 'South America'].plot(\n",
    "    color='white', edgecolor='black')\n",
    "\n",
    "# We can now plot our ``GeoDataFrame``.\n",
    "gdf.plot(ax=ax, color='red')\n",
    "\n",
    "plt.xlabel('Longitude')\n",
    "plt.ylabel('Latitude')\n",
    "\n",
    "plt.show()"
   ]
  }
 ],
 "metadata": {
  "kernelspec": {
   "display_name": "Python 3",
   "language": "python",
   "name": "python3"
  },
  "language_info": {
   "codemirror_mode": {
    "name": "ipython",
    "version": 3
   },
   "file_extension": ".py",
   "mimetype": "text/x-python",
   "name": "python",
   "nbconvert_exporter": "python",
   "pygments_lexer": "ipython3",
   "version": "3.8.3"
  },
  "latex_envs": {
   "LaTeX_envs_menu_present": true,
   "autoclose": false,
   "autocomplete": true,
   "bibliofile": "biblio.bib",
   "cite_by": "apalike",
   "current_citInitial": 1,
   "eqLabelWithNumbers": true,
   "eqNumInitial": 1,
   "hotkeys": {
    "equation": "Ctrl-E",
    "itemize": "Ctrl-I"
   },
   "labels_anchors": false,
   "latex_user_defs": false,
   "report_style_numbering": false,
   "user_envs_cfg": false
  }
 },
 "nbformat": 4,
 "nbformat_minor": 2
}
